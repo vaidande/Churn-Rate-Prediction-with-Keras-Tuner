{
  "nbformat": 4,
  "nbformat_minor": 0,
  "metadata": {
    "colab": {
      "name": "Customer Churn Prediction with Keras Tuner.ipynb",
      "provenance": [],
      "collapsed_sections": [],
      "authorship_tag": "ABX9TyPR1u/OX58eExdEn+kyjZsM",
      "include_colab_link": true
    },
    "kernelspec": {
      "name": "python3",
      "display_name": "Python 3"
    }
  },
  "cells": [
    {
      "cell_type": "markdown",
      "metadata": {
        "id": "view-in-github",
        "colab_type": "text"
      },
      "source": [
        "<a href=\"https://colab.research.google.com/github/vaidande/Customer-Churn-Prediction-with-Keras-Tuner/blob/main/Customer_Churn_Prediction.ipynb\" target=\"_parent\"><img src=\"https://colab.research.google.com/assets/colab-badge.svg\" alt=\"Open In Colab\"/></a>"
      ]
    },
    {
      "cell_type": "code",
      "metadata": {
        "id": "_wUlAWrmRYoN"
      },
      "source": [
        "import pandas as pd\r\n",
        "import numpy as np\r\n",
        "import matplotlib.pyplot as plt"
      ],
      "execution_count": 1,
      "outputs": []
    },
    {
      "cell_type": "code",
      "metadata": {
        "id": "BpjX09SLSTfc"
      },
      "source": [
        "url = 'https://raw.githubusercontent.com/vaidande/Churn-Rate-Prediction-with-Keras-Tuner/main/Churn_Modelling.csv'\r\n",
        "dataset = pd.read_csv(url)\r\n",
        "X = dataset.iloc[:, 3:13] #Excluding columns with no use\r\n",
        "y = dataset.iloc[:, 13] #target value"
      ],
      "execution_count": 2,
      "outputs": []
    },
    {
      "cell_type": "code",
      "metadata": {
        "colab": {
          "base_uri": "https://localhost:8080/"
        },
        "id": "dV4BNzrXSfuf",
        "outputId": "b389fc95-0bf3-4c5a-d6c5-d0e4716157a2"
      },
      "source": [
        "dataset.isnull().sum() #Checking null values"
      ],
      "execution_count": 3,
      "outputs": [
        {
          "output_type": "execute_result",
          "data": {
            "text/plain": [
              "RowNumber          0\n",
              "CustomerId         0\n",
              "Surname            0\n",
              "CreditScore        0\n",
              "Geography          0\n",
              "Gender             0\n",
              "Age                0\n",
              "Tenure             0\n",
              "Balance            0\n",
              "NumOfProducts      0\n",
              "HasCrCard          0\n",
              "IsActiveMember     0\n",
              "EstimatedSalary    0\n",
              "Exited             0\n",
              "dtype: int64"
            ]
          },
          "metadata": {
            "tags": []
          },
          "execution_count": 3
        }
      ]
    },
    {
      "cell_type": "code",
      "metadata": {
        "colab": {
          "base_uri": "https://localhost:8080/",
          "height": 206
        },
        "id": "dLZKUuWMSl3N",
        "outputId": "693f52e7-bd5e-45ba-d5df-ac3f5192069e"
      },
      "source": [
        "X.head()"
      ],
      "execution_count": 4,
      "outputs": [
        {
          "output_type": "execute_result",
          "data": {
            "text/html": [
              "<div>\n",
              "<style scoped>\n",
              "    .dataframe tbody tr th:only-of-type {\n",
              "        vertical-align: middle;\n",
              "    }\n",
              "\n",
              "    .dataframe tbody tr th {\n",
              "        vertical-align: top;\n",
              "    }\n",
              "\n",
              "    .dataframe thead th {\n",
              "        text-align: right;\n",
              "    }\n",
              "</style>\n",
              "<table border=\"1\" class=\"dataframe\">\n",
              "  <thead>\n",
              "    <tr style=\"text-align: right;\">\n",
              "      <th></th>\n",
              "      <th>CreditScore</th>\n",
              "      <th>Geography</th>\n",
              "      <th>Gender</th>\n",
              "      <th>Age</th>\n",
              "      <th>Tenure</th>\n",
              "      <th>Balance</th>\n",
              "      <th>NumOfProducts</th>\n",
              "      <th>HasCrCard</th>\n",
              "      <th>IsActiveMember</th>\n",
              "      <th>EstimatedSalary</th>\n",
              "    </tr>\n",
              "  </thead>\n",
              "  <tbody>\n",
              "    <tr>\n",
              "      <th>0</th>\n",
              "      <td>619</td>\n",
              "      <td>France</td>\n",
              "      <td>Female</td>\n",
              "      <td>42</td>\n",
              "      <td>2</td>\n",
              "      <td>0.00</td>\n",
              "      <td>1</td>\n",
              "      <td>1</td>\n",
              "      <td>1</td>\n",
              "      <td>101348.88</td>\n",
              "    </tr>\n",
              "    <tr>\n",
              "      <th>1</th>\n",
              "      <td>608</td>\n",
              "      <td>Spain</td>\n",
              "      <td>Female</td>\n",
              "      <td>41</td>\n",
              "      <td>1</td>\n",
              "      <td>83807.86</td>\n",
              "      <td>1</td>\n",
              "      <td>0</td>\n",
              "      <td>1</td>\n",
              "      <td>112542.58</td>\n",
              "    </tr>\n",
              "    <tr>\n",
              "      <th>2</th>\n",
              "      <td>502</td>\n",
              "      <td>France</td>\n",
              "      <td>Female</td>\n",
              "      <td>42</td>\n",
              "      <td>8</td>\n",
              "      <td>159660.80</td>\n",
              "      <td>3</td>\n",
              "      <td>1</td>\n",
              "      <td>0</td>\n",
              "      <td>113931.57</td>\n",
              "    </tr>\n",
              "    <tr>\n",
              "      <th>3</th>\n",
              "      <td>699</td>\n",
              "      <td>France</td>\n",
              "      <td>Female</td>\n",
              "      <td>39</td>\n",
              "      <td>1</td>\n",
              "      <td>0.00</td>\n",
              "      <td>2</td>\n",
              "      <td>0</td>\n",
              "      <td>0</td>\n",
              "      <td>93826.63</td>\n",
              "    </tr>\n",
              "    <tr>\n",
              "      <th>4</th>\n",
              "      <td>850</td>\n",
              "      <td>Spain</td>\n",
              "      <td>Female</td>\n",
              "      <td>43</td>\n",
              "      <td>2</td>\n",
              "      <td>125510.82</td>\n",
              "      <td>1</td>\n",
              "      <td>1</td>\n",
              "      <td>1</td>\n",
              "      <td>79084.10</td>\n",
              "    </tr>\n",
              "  </tbody>\n",
              "</table>\n",
              "</div>"
            ],
            "text/plain": [
              "   CreditScore Geography  Gender  ...  HasCrCard  IsActiveMember  EstimatedSalary\n",
              "0          619    France  Female  ...          1               1        101348.88\n",
              "1          608     Spain  Female  ...          0               1        112542.58\n",
              "2          502    France  Female  ...          1               0        113931.57\n",
              "3          699    France  Female  ...          0               0         93826.63\n",
              "4          850     Spain  Female  ...          1               1         79084.10\n",
              "\n",
              "[5 rows x 10 columns]"
            ]
          },
          "metadata": {
            "tags": []
          },
          "execution_count": 4
        }
      ]
    },
    {
      "cell_type": "code",
      "metadata": {
        "id": "L-KFkjFqVmiX"
      },
      "source": [
        "geography = pd.get_dummies(X[\"Geography\"], drop_first=True) #one hot encoding\r\n",
        "gender = pd.get_dummies(X[\"Gender\"], drop_first=True)"
      ],
      "execution_count": 5,
      "outputs": []
    },
    {
      "cell_type": "code",
      "metadata": {
        "id": "yvnlBWVZaH4R"
      },
      "source": [
        "X = pd.concat([X, geography, gender], axis=1)"
      ],
      "execution_count": 6,
      "outputs": []
    },
    {
      "cell_type": "code",
      "metadata": {
        "id": "wDkNjJpDaqI2"
      },
      "source": [
        "X = X.drop(['Geography', 'Gender'], axis=1)"
      ],
      "execution_count": 7,
      "outputs": []
    },
    {
      "cell_type": "code",
      "metadata": {
        "colab": {
          "base_uri": "https://localhost:8080/",
          "height": 206
        },
        "id": "GITzzHFca8cV",
        "outputId": "7649cb2e-a6d6-4117-b1ca-7eda0528c4b5"
      },
      "source": [
        "X.head()"
      ],
      "execution_count": 8,
      "outputs": [
        {
          "output_type": "execute_result",
          "data": {
            "text/html": [
              "<div>\n",
              "<style scoped>\n",
              "    .dataframe tbody tr th:only-of-type {\n",
              "        vertical-align: middle;\n",
              "    }\n",
              "\n",
              "    .dataframe tbody tr th {\n",
              "        vertical-align: top;\n",
              "    }\n",
              "\n",
              "    .dataframe thead th {\n",
              "        text-align: right;\n",
              "    }\n",
              "</style>\n",
              "<table border=\"1\" class=\"dataframe\">\n",
              "  <thead>\n",
              "    <tr style=\"text-align: right;\">\n",
              "      <th></th>\n",
              "      <th>CreditScore</th>\n",
              "      <th>Age</th>\n",
              "      <th>Tenure</th>\n",
              "      <th>Balance</th>\n",
              "      <th>NumOfProducts</th>\n",
              "      <th>HasCrCard</th>\n",
              "      <th>IsActiveMember</th>\n",
              "      <th>EstimatedSalary</th>\n",
              "      <th>Germany</th>\n",
              "      <th>Spain</th>\n",
              "      <th>Male</th>\n",
              "    </tr>\n",
              "  </thead>\n",
              "  <tbody>\n",
              "    <tr>\n",
              "      <th>0</th>\n",
              "      <td>619</td>\n",
              "      <td>42</td>\n",
              "      <td>2</td>\n",
              "      <td>0.00</td>\n",
              "      <td>1</td>\n",
              "      <td>1</td>\n",
              "      <td>1</td>\n",
              "      <td>101348.88</td>\n",
              "      <td>0</td>\n",
              "      <td>0</td>\n",
              "      <td>0</td>\n",
              "    </tr>\n",
              "    <tr>\n",
              "      <th>1</th>\n",
              "      <td>608</td>\n",
              "      <td>41</td>\n",
              "      <td>1</td>\n",
              "      <td>83807.86</td>\n",
              "      <td>1</td>\n",
              "      <td>0</td>\n",
              "      <td>1</td>\n",
              "      <td>112542.58</td>\n",
              "      <td>0</td>\n",
              "      <td>1</td>\n",
              "      <td>0</td>\n",
              "    </tr>\n",
              "    <tr>\n",
              "      <th>2</th>\n",
              "      <td>502</td>\n",
              "      <td>42</td>\n",
              "      <td>8</td>\n",
              "      <td>159660.80</td>\n",
              "      <td>3</td>\n",
              "      <td>1</td>\n",
              "      <td>0</td>\n",
              "      <td>113931.57</td>\n",
              "      <td>0</td>\n",
              "      <td>0</td>\n",
              "      <td>0</td>\n",
              "    </tr>\n",
              "    <tr>\n",
              "      <th>3</th>\n",
              "      <td>699</td>\n",
              "      <td>39</td>\n",
              "      <td>1</td>\n",
              "      <td>0.00</td>\n",
              "      <td>2</td>\n",
              "      <td>0</td>\n",
              "      <td>0</td>\n",
              "      <td>93826.63</td>\n",
              "      <td>0</td>\n",
              "      <td>0</td>\n",
              "      <td>0</td>\n",
              "    </tr>\n",
              "    <tr>\n",
              "      <th>4</th>\n",
              "      <td>850</td>\n",
              "      <td>43</td>\n",
              "      <td>2</td>\n",
              "      <td>125510.82</td>\n",
              "      <td>1</td>\n",
              "      <td>1</td>\n",
              "      <td>1</td>\n",
              "      <td>79084.10</td>\n",
              "      <td>0</td>\n",
              "      <td>1</td>\n",
              "      <td>0</td>\n",
              "    </tr>\n",
              "  </tbody>\n",
              "</table>\n",
              "</div>"
            ],
            "text/plain": [
              "   CreditScore  Age  Tenure    Balance  ...  EstimatedSalary  Germany  Spain  Male\n",
              "0          619   42       2       0.00  ...        101348.88        0      0     0\n",
              "1          608   41       1   83807.86  ...        112542.58        0      1     0\n",
              "2          502   42       8  159660.80  ...        113931.57        0      0     0\n",
              "3          699   39       1       0.00  ...         93826.63        0      0     0\n",
              "4          850   43       2  125510.82  ...         79084.10        0      1     0\n",
              "\n",
              "[5 rows x 11 columns]"
            ]
          },
          "metadata": {
            "tags": []
          },
          "execution_count": 8
        }
      ]
    },
    {
      "cell_type": "code",
      "metadata": {
        "id": "ppEoxI20bIzs"
      },
      "source": [
        "from sklearn.model_selection import train_test_split\r\n",
        "X_train, X_test, y_train, y_test = train_test_split(X, y, test_size=0.2, random_state=0)"
      ],
      "execution_count": 9,
      "outputs": []
    },
    {
      "cell_type": "code",
      "metadata": {
        "id": "DDos9NcA3-Cn"
      },
      "source": [
        "from sklearn.preprocessing import StandardScaler\r\n",
        "sc = StandardScaler()\r\n",
        "X_train = sc.fit_transform(X_train)\r\n",
        "X_test = sc.transform(X_test)"
      ],
      "execution_count": 10,
      "outputs": []
    },
    {
      "cell_type": "code",
      "metadata": {
        "id": "fyu6Nk5W4vcZ"
      },
      "source": [
        "import tensorflow.keras\r\n",
        "from tensorflow.keras.models import Sequential\r\n",
        "from tensorflow.keras.layers import Dense\r\n",
        "from tensorflow.keras.layers import Dropout"
      ],
      "execution_count": 11,
      "outputs": []
    },
    {
      "cell_type": "code",
      "metadata": {
        "id": "zkm1nsqj9N3s"
      },
      "source": [
        "model = Sequential()\r\n",
        "model.add(Dense(10,kernel_initializer='he_uniform', activation='relu', input_dim=11))\r\n",
        "model.add(Dense(10,kernel_initializer='he_uniform', activation='relu'))\r\n",
        "model.add(Dense(1, kernel_initializer='glorot_uniform', activation='sigmoid'))\r\n",
        "model.compile(optimizer='adam', loss='binary_crossentropy', metrics=['accuracy'])"
      ],
      "execution_count": 12,
      "outputs": []
    },
    {
      "cell_type": "code",
      "metadata": {
        "colab": {
          "base_uri": "https://localhost:8080/"
        },
        "id": "YiKtQFqK-kSz",
        "outputId": "3debea4d-07c3-4566-cee2-08e89cb904f6"
      },
      "source": [
        "model.summary()"
      ],
      "execution_count": 13,
      "outputs": [
        {
          "output_type": "stream",
          "text": [
            "Model: \"sequential\"\n",
            "_________________________________________________________________\n",
            "Layer (type)                 Output Shape              Param #   \n",
            "=================================================================\n",
            "dense (Dense)                (None, 10)                120       \n",
            "_________________________________________________________________\n",
            "dense_1 (Dense)              (None, 10)                110       \n",
            "_________________________________________________________________\n",
            "dense_2 (Dense)              (None, 1)                 11        \n",
            "=================================================================\n",
            "Total params: 241\n",
            "Trainable params: 241\n",
            "Non-trainable params: 0\n",
            "_________________________________________________________________\n"
          ],
          "name": "stdout"
        }
      ]
    },
    {
      "cell_type": "code",
      "metadata": {
        "colab": {
          "base_uri": "https://localhost:8080/"
        },
        "id": "GkAKnyLy-nrL",
        "outputId": "d8c05305-1a1f-4f07-f370-d528492607c4"
      },
      "source": [
        "model_history = model.fit(X_train, y_train, validation_split=0.33, epochs = 100, batch_size = 100)"
      ],
      "execution_count": 14,
      "outputs": [
        {
          "output_type": "stream",
          "text": [
            "Epoch 1/100\n",
            "54/54 [==============================] - 1s 9ms/step - loss: 0.6608 - accuracy: 0.7440 - val_loss: 0.5707 - val_accuracy: 0.7846\n",
            "Epoch 2/100\n",
            "54/54 [==============================] - 0s 3ms/step - loss: 0.5555 - accuracy: 0.7980 - val_loss: 0.5219 - val_accuracy: 0.7910\n",
            "Epoch 3/100\n",
            "54/54 [==============================] - 0s 3ms/step - loss: 0.5256 - accuracy: 0.7890 - val_loss: 0.4942 - val_accuracy: 0.7936\n",
            "Epoch 4/100\n",
            "54/54 [==============================] - 0s 3ms/step - loss: 0.5049 - accuracy: 0.7857 - val_loss: 0.4775 - val_accuracy: 0.7952\n",
            "Epoch 5/100\n",
            "54/54 [==============================] - 0s 3ms/step - loss: 0.4765 - accuracy: 0.7918 - val_loss: 0.4666 - val_accuracy: 0.7952\n",
            "Epoch 6/100\n",
            "54/54 [==============================] - 0s 3ms/step - loss: 0.4668 - accuracy: 0.7950 - val_loss: 0.4594 - val_accuracy: 0.7955\n",
            "Epoch 7/100\n",
            "54/54 [==============================] - 0s 3ms/step - loss: 0.4468 - accuracy: 0.7979 - val_loss: 0.4539 - val_accuracy: 0.7967\n",
            "Epoch 8/100\n",
            "54/54 [==============================] - 0s 3ms/step - loss: 0.4402 - accuracy: 0.7992 - val_loss: 0.4497 - val_accuracy: 0.7970\n",
            "Epoch 9/100\n",
            "54/54 [==============================] - 0s 3ms/step - loss: 0.4384 - accuracy: 0.7969 - val_loss: 0.4463 - val_accuracy: 0.7978\n",
            "Epoch 10/100\n",
            "54/54 [==============================] - 0s 3ms/step - loss: 0.4269 - accuracy: 0.8041 - val_loss: 0.4433 - val_accuracy: 0.7986\n",
            "Epoch 11/100\n",
            "54/54 [==============================] - 0s 3ms/step - loss: 0.4307 - accuracy: 0.7991 - val_loss: 0.4404 - val_accuracy: 0.8005\n",
            "Epoch 12/100\n",
            "54/54 [==============================] - 0s 3ms/step - loss: 0.4329 - accuracy: 0.7991 - val_loss: 0.4372 - val_accuracy: 0.8027\n",
            "Epoch 13/100\n",
            "54/54 [==============================] - 0s 3ms/step - loss: 0.4283 - accuracy: 0.8014 - val_loss: 0.4344 - val_accuracy: 0.8046\n",
            "Epoch 14/100\n",
            "54/54 [==============================] - 0s 3ms/step - loss: 0.4277 - accuracy: 0.8038 - val_loss: 0.4314 - val_accuracy: 0.8050\n",
            "Epoch 15/100\n",
            "54/54 [==============================] - 0s 3ms/step - loss: 0.4172 - accuracy: 0.8101 - val_loss: 0.4280 - val_accuracy: 0.8054\n",
            "Epoch 16/100\n",
            "54/54 [==============================] - 0s 3ms/step - loss: 0.3998 - accuracy: 0.8250 - val_loss: 0.4248 - val_accuracy: 0.8058\n",
            "Epoch 17/100\n",
            "54/54 [==============================] - 0s 3ms/step - loss: 0.4059 - accuracy: 0.8141 - val_loss: 0.4213 - val_accuracy: 0.8076\n",
            "Epoch 18/100\n",
            "54/54 [==============================] - 0s 3ms/step - loss: 0.3954 - accuracy: 0.8235 - val_loss: 0.4177 - val_accuracy: 0.8099\n",
            "Epoch 19/100\n",
            "54/54 [==============================] - 0s 3ms/step - loss: 0.4034 - accuracy: 0.8166 - val_loss: 0.4145 - val_accuracy: 0.8114\n",
            "Epoch 20/100\n",
            "54/54 [==============================] - 0s 3ms/step - loss: 0.3931 - accuracy: 0.8253 - val_loss: 0.4109 - val_accuracy: 0.8137\n",
            "Epoch 21/100\n",
            "54/54 [==============================] - 0s 3ms/step - loss: 0.4002 - accuracy: 0.8184 - val_loss: 0.4074 - val_accuracy: 0.8141\n",
            "Epoch 22/100\n",
            "54/54 [==============================] - 0s 3ms/step - loss: 0.3908 - accuracy: 0.8213 - val_loss: 0.4044 - val_accuracy: 0.8145\n",
            "Epoch 23/100\n",
            "54/54 [==============================] - 0s 2ms/step - loss: 0.3860 - accuracy: 0.8297 - val_loss: 0.4015 - val_accuracy: 0.8164\n",
            "Epoch 24/100\n",
            "54/54 [==============================] - 0s 3ms/step - loss: 0.3839 - accuracy: 0.8323 - val_loss: 0.3986 - val_accuracy: 0.8186\n",
            "Epoch 25/100\n",
            "54/54 [==============================] - 0s 2ms/step - loss: 0.3922 - accuracy: 0.8296 - val_loss: 0.3961 - val_accuracy: 0.8194\n",
            "Epoch 26/100\n",
            "54/54 [==============================] - 0s 2ms/step - loss: 0.3705 - accuracy: 0.8333 - val_loss: 0.3947 - val_accuracy: 0.8183\n",
            "Epoch 27/100\n",
            "54/54 [==============================] - 0s 2ms/step - loss: 0.3718 - accuracy: 0.8376 - val_loss: 0.3923 - val_accuracy: 0.8228\n",
            "Epoch 28/100\n",
            "54/54 [==============================] - 0s 2ms/step - loss: 0.3803 - accuracy: 0.8314 - val_loss: 0.3899 - val_accuracy: 0.8243\n",
            "Epoch 29/100\n",
            "54/54 [==============================] - 0s 2ms/step - loss: 0.3562 - accuracy: 0.8442 - val_loss: 0.3887 - val_accuracy: 0.8251\n",
            "Epoch 30/100\n",
            "54/54 [==============================] - 0s 2ms/step - loss: 0.3595 - accuracy: 0.8476 - val_loss: 0.3865 - val_accuracy: 0.8289\n",
            "Epoch 31/100\n",
            "54/54 [==============================] - 0s 2ms/step - loss: 0.3655 - accuracy: 0.8409 - val_loss: 0.3848 - val_accuracy: 0.8270\n",
            "Epoch 32/100\n",
            "54/54 [==============================] - 0s 2ms/step - loss: 0.3472 - accuracy: 0.8538 - val_loss: 0.3840 - val_accuracy: 0.8277\n",
            "Epoch 33/100\n",
            "54/54 [==============================] - 0s 2ms/step - loss: 0.3598 - accuracy: 0.8456 - val_loss: 0.3823 - val_accuracy: 0.8277\n",
            "Epoch 34/100\n",
            "54/54 [==============================] - 0s 2ms/step - loss: 0.3604 - accuracy: 0.8440 - val_loss: 0.3813 - val_accuracy: 0.8289\n",
            "Epoch 35/100\n",
            "54/54 [==============================] - 0s 2ms/step - loss: 0.3573 - accuracy: 0.8472 - val_loss: 0.3800 - val_accuracy: 0.8292\n",
            "Epoch 36/100\n",
            "54/54 [==============================] - 0s 2ms/step - loss: 0.3524 - accuracy: 0.8483 - val_loss: 0.3785 - val_accuracy: 0.8311\n",
            "Epoch 37/100\n",
            "54/54 [==============================] - 0s 2ms/step - loss: 0.3387 - accuracy: 0.8559 - val_loss: 0.3778 - val_accuracy: 0.8319\n",
            "Epoch 38/100\n",
            "54/54 [==============================] - 0s 2ms/step - loss: 0.3584 - accuracy: 0.8476 - val_loss: 0.3761 - val_accuracy: 0.8334\n",
            "Epoch 39/100\n",
            "54/54 [==============================] - 0s 3ms/step - loss: 0.3485 - accuracy: 0.8499 - val_loss: 0.3749 - val_accuracy: 0.8345\n",
            "Epoch 40/100\n",
            "54/54 [==============================] - 0s 2ms/step - loss: 0.3520 - accuracy: 0.8483 - val_loss: 0.3739 - val_accuracy: 0.8372\n",
            "Epoch 41/100\n",
            "54/54 [==============================] - 0s 2ms/step - loss: 0.3489 - accuracy: 0.8575 - val_loss: 0.3728 - val_accuracy: 0.8387\n",
            "Epoch 42/100\n",
            "54/54 [==============================] - 0s 2ms/step - loss: 0.3441 - accuracy: 0.8608 - val_loss: 0.3721 - val_accuracy: 0.8383\n",
            "Epoch 43/100\n",
            "54/54 [==============================] - 0s 2ms/step - loss: 0.3348 - accuracy: 0.8615 - val_loss: 0.3726 - val_accuracy: 0.8391\n",
            "Epoch 44/100\n",
            "54/54 [==============================] - 0s 2ms/step - loss: 0.3409 - accuracy: 0.8571 - val_loss: 0.3699 - val_accuracy: 0.8391\n",
            "Epoch 45/100\n",
            "54/54 [==============================] - 0s 2ms/step - loss: 0.3387 - accuracy: 0.8609 - val_loss: 0.3704 - val_accuracy: 0.8417\n",
            "Epoch 46/100\n",
            "54/54 [==============================] - 0s 3ms/step - loss: 0.3283 - accuracy: 0.8645 - val_loss: 0.3683 - val_accuracy: 0.8406\n",
            "Epoch 47/100\n",
            "54/54 [==============================] - 0s 2ms/step - loss: 0.3384 - accuracy: 0.8586 - val_loss: 0.3678 - val_accuracy: 0.8413\n",
            "Epoch 48/100\n",
            "54/54 [==============================] - 0s 2ms/step - loss: 0.3324 - accuracy: 0.8623 - val_loss: 0.3669 - val_accuracy: 0.8417\n",
            "Epoch 49/100\n",
            "54/54 [==============================] - 0s 2ms/step - loss: 0.3423 - accuracy: 0.8605 - val_loss: 0.3659 - val_accuracy: 0.8421\n",
            "Epoch 50/100\n",
            "54/54 [==============================] - 0s 2ms/step - loss: 0.3403 - accuracy: 0.8569 - val_loss: 0.3655 - val_accuracy: 0.8429\n",
            "Epoch 51/100\n",
            "54/54 [==============================] - 0s 2ms/step - loss: 0.3298 - accuracy: 0.8629 - val_loss: 0.3653 - val_accuracy: 0.8432\n",
            "Epoch 52/100\n",
            "54/54 [==============================] - 0s 2ms/step - loss: 0.3361 - accuracy: 0.8566 - val_loss: 0.3643 - val_accuracy: 0.8429\n",
            "Epoch 53/100\n",
            "54/54 [==============================] - 0s 2ms/step - loss: 0.3363 - accuracy: 0.8614 - val_loss: 0.3644 - val_accuracy: 0.8436\n",
            "Epoch 54/100\n",
            "54/54 [==============================] - 0s 3ms/step - loss: 0.3215 - accuracy: 0.8674 - val_loss: 0.3642 - val_accuracy: 0.8444\n",
            "Epoch 55/100\n",
            "54/54 [==============================] - 0s 2ms/step - loss: 0.3399 - accuracy: 0.8535 - val_loss: 0.3633 - val_accuracy: 0.8440\n",
            "Epoch 56/100\n",
            "54/54 [==============================] - 0s 2ms/step - loss: 0.3467 - accuracy: 0.8542 - val_loss: 0.3635 - val_accuracy: 0.8444\n",
            "Epoch 57/100\n",
            "54/54 [==============================] - 0s 2ms/step - loss: 0.3370 - accuracy: 0.8553 - val_loss: 0.3628 - val_accuracy: 0.8440\n",
            "Epoch 58/100\n",
            "54/54 [==============================] - 0s 2ms/step - loss: 0.3323 - accuracy: 0.8632 - val_loss: 0.3626 - val_accuracy: 0.8444\n",
            "Epoch 59/100\n",
            "54/54 [==============================] - 0s 2ms/step - loss: 0.3265 - accuracy: 0.8690 - val_loss: 0.3626 - val_accuracy: 0.8448\n",
            "Epoch 60/100\n",
            "54/54 [==============================] - 0s 2ms/step - loss: 0.3235 - accuracy: 0.8678 - val_loss: 0.3619 - val_accuracy: 0.8459\n",
            "Epoch 61/100\n",
            "54/54 [==============================] - 0s 3ms/step - loss: 0.3318 - accuracy: 0.8598 - val_loss: 0.3619 - val_accuracy: 0.8455\n",
            "Epoch 62/100\n",
            "54/54 [==============================] - 0s 3ms/step - loss: 0.3297 - accuracy: 0.8657 - val_loss: 0.3614 - val_accuracy: 0.8466\n",
            "Epoch 63/100\n",
            "54/54 [==============================] - 0s 2ms/step - loss: 0.3423 - accuracy: 0.8656 - val_loss: 0.3620 - val_accuracy: 0.8440\n",
            "Epoch 64/100\n",
            "54/54 [==============================] - 0s 2ms/step - loss: 0.3250 - accuracy: 0.8685 - val_loss: 0.3614 - val_accuracy: 0.8466\n",
            "Epoch 65/100\n",
            "54/54 [==============================] - 0s 3ms/step - loss: 0.3432 - accuracy: 0.8551 - val_loss: 0.3611 - val_accuracy: 0.8474\n",
            "Epoch 66/100\n",
            "54/54 [==============================] - 0s 3ms/step - loss: 0.3422 - accuracy: 0.8593 - val_loss: 0.3607 - val_accuracy: 0.8459\n",
            "Epoch 67/100\n",
            "54/54 [==============================] - 0s 2ms/step - loss: 0.3317 - accuracy: 0.8634 - val_loss: 0.3609 - val_accuracy: 0.8470\n",
            "Epoch 68/100\n",
            "54/54 [==============================] - 0s 2ms/step - loss: 0.3225 - accuracy: 0.8675 - val_loss: 0.3612 - val_accuracy: 0.8482\n",
            "Epoch 69/100\n",
            "54/54 [==============================] - 0s 3ms/step - loss: 0.3233 - accuracy: 0.8676 - val_loss: 0.3604 - val_accuracy: 0.8474\n",
            "Epoch 70/100\n",
            "54/54 [==============================] - 0s 2ms/step - loss: 0.3245 - accuracy: 0.8651 - val_loss: 0.3613 - val_accuracy: 0.8501\n",
            "Epoch 71/100\n",
            "54/54 [==============================] - 0s 3ms/step - loss: 0.3440 - accuracy: 0.8600 - val_loss: 0.3598 - val_accuracy: 0.8482\n",
            "Epoch 72/100\n",
            "54/54 [==============================] - 0s 3ms/step - loss: 0.3282 - accuracy: 0.8653 - val_loss: 0.3598 - val_accuracy: 0.8489\n",
            "Epoch 73/100\n",
            "54/54 [==============================] - 0s 2ms/step - loss: 0.3263 - accuracy: 0.8695 - val_loss: 0.3606 - val_accuracy: 0.8489\n",
            "Epoch 74/100\n",
            "54/54 [==============================] - 0s 2ms/step - loss: 0.3359 - accuracy: 0.8597 - val_loss: 0.3597 - val_accuracy: 0.8489\n",
            "Epoch 75/100\n",
            "54/54 [==============================] - 0s 2ms/step - loss: 0.3358 - accuracy: 0.8587 - val_loss: 0.3593 - val_accuracy: 0.8482\n",
            "Epoch 76/100\n",
            "54/54 [==============================] - 0s 2ms/step - loss: 0.3469 - accuracy: 0.8543 - val_loss: 0.3595 - val_accuracy: 0.8489\n",
            "Epoch 77/100\n",
            "54/54 [==============================] - 0s 2ms/step - loss: 0.3229 - accuracy: 0.8694 - val_loss: 0.3595 - val_accuracy: 0.8489\n",
            "Epoch 78/100\n",
            "54/54 [==============================] - 0s 3ms/step - loss: 0.3313 - accuracy: 0.8672 - val_loss: 0.3590 - val_accuracy: 0.8497\n",
            "Epoch 79/100\n",
            "54/54 [==============================] - 0s 3ms/step - loss: 0.3209 - accuracy: 0.8668 - val_loss: 0.3596 - val_accuracy: 0.8489\n",
            "Epoch 80/100\n",
            "54/54 [==============================] - 0s 3ms/step - loss: 0.3189 - accuracy: 0.8681 - val_loss: 0.3592 - val_accuracy: 0.8493\n",
            "Epoch 81/100\n",
            "54/54 [==============================] - 0s 2ms/step - loss: 0.3340 - accuracy: 0.8566 - val_loss: 0.3592 - val_accuracy: 0.8493\n",
            "Epoch 82/100\n",
            "54/54 [==============================] - 0s 2ms/step - loss: 0.3234 - accuracy: 0.8669 - val_loss: 0.3589 - val_accuracy: 0.8493\n",
            "Epoch 83/100\n",
            "54/54 [==============================] - 0s 3ms/step - loss: 0.3359 - accuracy: 0.8607 - val_loss: 0.3585 - val_accuracy: 0.8493\n",
            "Epoch 84/100\n",
            "54/54 [==============================] - 0s 3ms/step - loss: 0.3274 - accuracy: 0.8688 - val_loss: 0.3588 - val_accuracy: 0.8489\n",
            "Epoch 85/100\n",
            "54/54 [==============================] - 0s 3ms/step - loss: 0.3406 - accuracy: 0.8581 - val_loss: 0.3587 - val_accuracy: 0.8489\n",
            "Epoch 86/100\n",
            "54/54 [==============================] - 0s 3ms/step - loss: 0.3331 - accuracy: 0.8673 - val_loss: 0.3591 - val_accuracy: 0.8485\n",
            "Epoch 87/100\n",
            "54/54 [==============================] - 0s 3ms/step - loss: 0.3262 - accuracy: 0.8668 - val_loss: 0.3584 - val_accuracy: 0.8489\n",
            "Epoch 88/100\n",
            "54/54 [==============================] - 0s 3ms/step - loss: 0.3332 - accuracy: 0.8585 - val_loss: 0.3584 - val_accuracy: 0.8482\n",
            "Epoch 89/100\n",
            "54/54 [==============================] - 0s 2ms/step - loss: 0.3322 - accuracy: 0.8648 - val_loss: 0.3587 - val_accuracy: 0.8501\n",
            "Epoch 90/100\n",
            "54/54 [==============================] - 0s 3ms/step - loss: 0.3312 - accuracy: 0.8634 - val_loss: 0.3582 - val_accuracy: 0.8485\n",
            "Epoch 91/100\n",
            "54/54 [==============================] - 0s 3ms/step - loss: 0.3265 - accuracy: 0.8635 - val_loss: 0.3583 - val_accuracy: 0.8489\n",
            "Epoch 92/100\n",
            "54/54 [==============================] - 0s 2ms/step - loss: 0.3182 - accuracy: 0.8745 - val_loss: 0.3594 - val_accuracy: 0.8501\n",
            "Epoch 93/100\n",
            "54/54 [==============================] - 0s 2ms/step - loss: 0.3253 - accuracy: 0.8638 - val_loss: 0.3584 - val_accuracy: 0.8512\n",
            "Epoch 94/100\n",
            "54/54 [==============================] - 0s 2ms/step - loss: 0.3147 - accuracy: 0.8699 - val_loss: 0.3581 - val_accuracy: 0.8489\n",
            "Epoch 95/100\n",
            "54/54 [==============================] - 0s 2ms/step - loss: 0.3255 - accuracy: 0.8699 - val_loss: 0.3586 - val_accuracy: 0.8501\n",
            "Epoch 96/100\n",
            "54/54 [==============================] - 0s 2ms/step - loss: 0.3379 - accuracy: 0.8570 - val_loss: 0.3576 - val_accuracy: 0.8497\n",
            "Epoch 97/100\n",
            "54/54 [==============================] - 0s 3ms/step - loss: 0.3384 - accuracy: 0.8613 - val_loss: 0.3582 - val_accuracy: 0.8504\n",
            "Epoch 98/100\n",
            "54/54 [==============================] - 0s 2ms/step - loss: 0.3214 - accuracy: 0.8667 - val_loss: 0.3583 - val_accuracy: 0.8501\n",
            "Epoch 99/100\n",
            "54/54 [==============================] - 0s 2ms/step - loss: 0.3268 - accuracy: 0.8663 - val_loss: 0.3578 - val_accuracy: 0.8493\n",
            "Epoch 100/100\n",
            "54/54 [==============================] - 0s 2ms/step - loss: 0.3429 - accuracy: 0.8571 - val_loss: 0.3577 - val_accuracy: 0.8501\n"
          ],
          "name": "stdout"
        }
      ]
    },
    {
      "cell_type": "code",
      "metadata": {
        "colab": {
          "base_uri": "https://localhost:8080/",
          "height": 313
        },
        "id": "pLE2oaVE_Htv",
        "outputId": "c2a0a368-1125-459c-e7e7-43e54408e97f"
      },
      "source": [
        "print(model_history.history.keys())\r\n",
        "plt.plot(model_history.history['accuracy'])\r\n",
        "plt.plot(model_history.history['val_accuracy'])\r\n",
        "plt.title('model accuracy')\r\n",
        "plt.ylabel('accuracy')\r\n",
        "plt.xlabel('epoch')\r\n",
        "plt.legend(['train', 'test'], loc='upper left')\r\n",
        "plt.show()"
      ],
      "execution_count": 15,
      "outputs": [
        {
          "output_type": "stream",
          "text": [
            "dict_keys(['loss', 'accuracy', 'val_loss', 'val_accuracy'])\n"
          ],
          "name": "stdout"
        },
        {
          "output_type": "display_data",
          "data": {
            "image/png": "[encoded data removed]",
            "text/plain": [
              "<Figure size 432x288 with 1 Axes>"
            ]
          },
          "metadata": {
            "tags": [],
            "needs_background": "light"
          }
        }
      ]
    },
    {
      "cell_type": "code",
      "metadata": {
        "colab": {
          "base_uri": "https://localhost:8080/",
          "height": 295
        },
        "id": "xhIHVWww_1TK",
        "outputId": "5136aa80-34a3-48a1-e9ba-819917adcfba"
      },
      "source": [
        "plt.plot(model_history.history['loss'])\r\n",
        "plt.plot(model_history.history['val_loss'])\r\n",
        "plt.title('model loss')\r\n",
        "plt.ylabel('loss')\r\n",
        "plt.xlabel('epoch')\r\n",
        "plt.legend(['train', 'test'], loc='upper left')\r\n",
        "plt.show()"
      ],
      "execution_count": 16,
      "outputs": [
        {
          "output_type": "display_data",
          "data": {
            "image/png": "[encoded data removed]",
            "text/plain": [
              "<Figure size 432x288 with 1 Axes>"
            ]
          },
          "metadata": {
            "tags": [],
            "needs_background": "light"
          }
        }
      ]
    },
    {
      "cell_type": "code",
      "metadata": {
        "id": "-TtHZ6vOBssy"
      },
      "source": [
        "y_pred = model.predict(X_test)\r\n",
        "y_pred = (y_pred > 0.5)"
      ],
      "execution_count": 17,
      "outputs": []
    },
    {
      "cell_type": "code",
      "metadata": {
        "colab": {
          "base_uri": "https://localhost:8080/"
        },
        "id": "1u4i03KUN6Pm",
        "outputId": "893b67b9-c7d4-47e7-f7bf-8dc6a84c64a3"
      },
      "source": [
        "y_pred"
      ],
      "execution_count": 18,
      "outputs": [
        {
          "output_type": "execute_result",
          "data": {
            "text/plain": [
              "array([[False],\n",
              "       [False],\n",
              "       [False],\n",
              "       ...,\n",
              "       [False],\n",
              "       [False],\n",
              "       [False]])"
            ]
          },
          "metadata": {
            "tags": []
          },
          "execution_count": 18
        }
      ]
    },
    {
      "cell_type": "code",
      "metadata": {
        "id": "wnpZ2qNKOCQ8"
      },
      "source": [
        "from sklearn.metrics import confusion_matrix\r\n",
        "cm = confusion_matrix(y_test, y_pred)"
      ],
      "execution_count": 19,
      "outputs": []
    },
    {
      "cell_type": "code",
      "metadata": {
        "colab": {
          "base_uri": "https://localhost:8080/"
        },
        "id": "pV4eiovNRJ7l",
        "outputId": "e8fd9ae5-fd26-4a43-ce25-169d24bdfe13"
      },
      "source": [
        "cm"
      ],
      "execution_count": 20,
      "outputs": [
        {
          "output_type": "execute_result",
          "data": {
            "text/plain": [
              "array([[1526,   69],\n",
              "       [ 208,  197]])"
            ]
          },
          "metadata": {
            "tags": []
          },
          "execution_count": 20
        }
      ]
    },
    {
      "cell_type": "code",
      "metadata": {
        "id": "zZV9NS7JREL8"
      },
      "source": [
        "from sklearn.metrics import accuracy_score\r\n",
        "score=accuracy_score(y_pred,y_test)"
      ],
      "execution_count": 21,
      "outputs": []
    },
    {
      "cell_type": "code",
      "metadata": {
        "colab": {
          "base_uri": "https://localhost:8080/"
        },
        "id": "boglXBMwRHe1",
        "outputId": "1fa956b2-5cc5-446c-dedc-b40bd0d50c6b"
      },
      "source": [
        "score"
      ],
      "execution_count": 22,
      "outputs": [
        {
          "output_type": "execute_result",
          "data": {
            "text/plain": [
              "0.8615"
            ]
          },
          "metadata": {
            "tags": []
          },
          "execution_count": 22
        }
      ]
    },
    {
      "cell_type": "code",
      "metadata": {
        "id": "GnlECF92Ra1W"
      },
      "source": [
        ""
      ],
      "execution_count": 22,
      "outputs": []
    }
  ]
}